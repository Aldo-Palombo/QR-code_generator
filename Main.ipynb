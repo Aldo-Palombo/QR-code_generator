{
  "nbformat": 4,
  "nbformat_minor": 0,
  "metadata": {
    "colab": {
      "name": "Untitled0.ipynb",
      "provenance": [],
      "authorship_tag": "ABX9TyNm+iRBae2HjRUOjRh81aEV",
      "include_colab_link": true
    },
    "kernelspec": {
      "name": "python3",
      "display_name": "Python 3"
    },
    "language_info": {
      "name": "python"
    }
  },
  "cells": [
    {
      "cell_type": "markdown",
      "metadata": {
        "id": "view-in-github",
        "colab_type": "text"
      },
      "source": [
        "<a href=\"https://colab.research.google.com/github/Aldo-Palombo/QR-code_generator/blob/main/Untitled0.ipynb\" target=\"_parent\"><img src=\"https://colab.research.google.com/assets/colab-badge.svg\" alt=\"Open In Colab\"/></a>"
      ]
    },
    {
      "cell_type": "code",
      "metadata": {
        "id": "1iHJJO6wJhXM"
      },
      "source": [
        "!pip install pyqrcode"
      ],
      "execution_count": null,
      "outputs": []
    },
    {
      "cell_type": "code",
      "metadata": {
        "id": "pf-t83l-JxYP"
      },
      "source": [
        "!pip install pypng"
      ],
      "execution_count": null,
      "outputs": []
    },
    {
      "cell_type": "code",
      "metadata": {
        "id": "2mKBuiglJJGX"
      },
      "source": [
        "import pyqrcode\n",
        "import png\n",
        "from pyqrcode import QRCode\n",
        "\n",
        "s=\"https://www2.unimol.it/\"\n",
        "url =pyqrcode.create(s)\n",
        "\n",
        "url.svg(\"myqr.svg\", scale = 8)\n",
        "\n",
        "url.png('myqr.png', scale = 6)"
      ],
      "execution_count": 12,
      "outputs": []
    }
  ]
}
